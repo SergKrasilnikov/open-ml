{
 "cells": [
  {
   "cell_type": "code",
   "execution_count": 12,
   "id": "8d88e3cb",
   "metadata": {},
   "outputs": [
    {
     "name": "stdout",
     "output_type": "stream",
     "text": [
      "133333334466666672\n"
     ]
    }
   ],
   "source": [
    "summ = 0\n",
    "start = 1\n",
    "end = 1000000002\n",
    "for i_num in range(start, end + 1):\n",
    "    if i_num % 3 == 0:\n",
    "        if i_num % 10 != 4 and i_num % 10 != 7:\n",
    "            summ += i_num\n",
    "print(summ)"
   ]
  },
  {
   "cell_type": "code",
   "execution_count": 17,
   "id": "2272c151",
   "metadata": {},
   "outputs": [
    {
     "ename": "TypeError",
     "evalue": "'>' not supported between instances of 'str' and 'int'",
     "output_type": "error",
     "traceback": [
      "\u001b[0;31m---------------------------------------------------------------------------\u001b[0m",
      "\u001b[0;31mTypeError\u001b[0m                                 Traceback (most recent call last)",
      "Input \u001b[0;32mIn [17]\u001b[0m, in \u001b[0;36m<module>\u001b[0;34m\u001b[0m\n\u001b[1;32m     18\u001b[0m \u001b[38;5;28;01mwith\u001b[39;00m \u001b[38;5;28mopen\u001b[39m(\u001b[38;5;124m'\u001b[39m\u001b[38;5;124minput_file.txt\u001b[39m\u001b[38;5;124m'\u001b[39m, \u001b[38;5;124m'\u001b[39m\u001b[38;5;124mr\u001b[39m\u001b[38;5;124m'\u001b[39m) \u001b[38;5;28;01mas\u001b[39;00m file:\n\u001b[1;32m     19\u001b[0m     \u001b[38;5;28;01mfor\u001b[39;00m i_line \u001b[38;5;129;01min\u001b[39;00m file:\n\u001b[0;32m---> 20\u001b[0m         res \u001b[38;5;241m=\u001b[39m \u001b[43mcheck_operator\u001b[49m\u001b[43m(\u001b[49m\u001b[43mi_line\u001b[49m\u001b[43m)\u001b[49m\n\u001b[1;32m     21\u001b[0m         \u001b[38;5;28;01mwith\u001b[39;00m \u001b[38;5;28mopen\u001b[39m(\u001b[38;5;124m'\u001b[39m\u001b[38;5;124moutput_file.txt\u001b[39m\u001b[38;5;124m'\u001b[39m, \u001b[38;5;124m'\u001b[39m\u001b[38;5;124ma\u001b[39m\u001b[38;5;124m'\u001b[39m) \u001b[38;5;28;01mas\u001b[39;00m output_file:\n\u001b[1;32m     22\u001b[0m             output_file\u001b[38;5;241m.\u001b[39mwrite(res)\n",
      "Input \u001b[0;32mIn [17]\u001b[0m, in \u001b[0;36mcheck_operator\u001b[0;34m(line)\u001b[0m\n\u001b[1;32m      7\u001b[0m \u001b[38;5;28;01melif\u001b[39;00m line[\u001b[38;5;241m0\u001b[39m] \u001b[38;5;241m==\u001b[39m \u001b[38;5;124m'\u001b[39m\u001b[38;5;124m*\u001b[39m\u001b[38;5;124m'\u001b[39m:\n\u001b[1;32m      8\u001b[0m     num \u001b[38;5;241m=\u001b[39m \u001b[38;5;28mint\u001b[39m(line[\u001b[38;5;241m1\u001b[39m]) \u001b[38;5;241m*\u001b[39m \u001b[38;5;28mint\u001b[39m(line[\u001b[38;5;241m2\u001b[39m])\n\u001b[0;32m----> 9\u001b[0m \u001b[38;5;28;01melif\u001b[39;00m line[\u001b[38;5;241m0\u001b[39m] \u001b[38;5;241m==\u001b[39m \u001b[38;5;124m'\u001b[39m\u001b[38;5;124m//\u001b[39m\u001b[38;5;124m'\u001b[39m \u001b[38;5;129;01mand\u001b[39;00m \u001b[43mline\u001b[49m\u001b[43m[\u001b[49m\u001b[38;5;241;43m1\u001b[39;49m\u001b[43m]\u001b[49m\u001b[43m \u001b[49m\u001b[38;5;241;43m>\u001b[39;49m\u001b[43m \u001b[49m\u001b[38;5;241;43m0\u001b[39;49m \u001b[38;5;129;01mand\u001b[39;00m line[\u001b[38;5;241m2\u001b[39m]:\n\u001b[1;32m     10\u001b[0m     num \u001b[38;5;241m=\u001b[39m \u001b[38;5;28mint\u001b[39m(line[\u001b[38;5;241m1\u001b[39m]) \u001b[38;5;241m/\u001b[39m\u001b[38;5;241m/\u001b[39m \u001b[38;5;28mint\u001b[39m(line[\u001b[38;5;241m2\u001b[39m])\n\u001b[1;32m     11\u001b[0m \u001b[38;5;28;01melif\u001b[39;00m line[\u001b[38;5;241m0\u001b[39m] \u001b[38;5;241m==\u001b[39m \u001b[38;5;124m'\u001b[39m\u001b[38;5;124m%\u001b[39m\u001b[38;5;124m'\u001b[39m \u001b[38;5;129;01mand\u001b[39;00m line[\u001b[38;5;241m1\u001b[39m] \u001b[38;5;241m>\u001b[39m \u001b[38;5;241m0\u001b[39m \u001b[38;5;129;01mand\u001b[39;00m line[\u001b[38;5;241m2\u001b[39m]:\n",
      "\u001b[0;31mTypeError\u001b[0m: '>' not supported between instances of 'str' and 'int'"
     ]
    }
   ],
   "source": [
    "def check_operator(line):\n",
    "    line = i_line.split()\n",
    "    if line[0] == '+':\n",
    "        num = int(line[1]) + int(line[2])\n",
    "    elif line[0] == '-':\n",
    "        num = int(line[1]) - int(line[2])\n",
    "    elif line[0] == '*':\n",
    "        num = int(line[1]) * int(line[2])\n",
    "    elif line[0] == '//' and line[1] > 0 and line[2]:\n",
    "        num = int(line[1]) // int(line[2])\n",
    "    elif line[0] == '%' and line[1] > 0 and line[2]:\n",
    "        num = int(line[1]) % int(line[2])\n",
    "    elif line[0] == '**' and line[1] > 0 and line[2]:\n",
    "        num = int(line[1]) ** int(line[2])\n",
    "        \n",
    "    return num\n",
    "\n",
    "with open('input_file.txt', 'r') as file:\n",
    "    for i_line in file:\n",
    "        res = check_operator(i_line)\n",
    "        with open('output_file.txt', 'a') as output_file:\n",
    "            output_file.write(res)\n",
    "\n"
   ]
  },
  {
   "cell_type": "code",
   "execution_count": null,
   "id": "a29e8367",
   "metadata": {},
   "outputs": [],
   "source": []
  }
 ],
 "metadata": {
  "kernelspec": {
   "display_name": "Python 3 (ipykernel)",
   "language": "python",
   "name": "python3"
  },
  "language_info": {
   "codemirror_mode": {
    "name": "ipython",
    "version": 3
   },
   "file_extension": ".py",
   "mimetype": "text/x-python",
   "name": "python",
   "nbconvert_exporter": "python",
   "pygments_lexer": "ipython3",
   "version": "3.9.5"
  }
 },
 "nbformat": 4,
 "nbformat_minor": 5
}
