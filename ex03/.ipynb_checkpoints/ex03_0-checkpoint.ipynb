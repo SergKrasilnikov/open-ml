{
 "cells": [
  {
   "cell_type": "code",
   "execution_count": 3,
   "id": "8d88e3cb",
   "metadata": {},
   "outputs": [
    {
     "name": "stdout",
     "output_type": "stream",
     "text": [
      "133333334466666672\n"
     ]
    }
   ],
   "source": [
    "%%time\n",
    "summ = 0\n",
    "start = 1\n",
    "end = 1000000002\n",
    "for i_num in range(start, end + 1):\n",
    "    if i_num % 3 == 0:\n",
    "        if i_num % 10 != 4 and i_num % 10 != 7:\n",
    "            summ += i_num\n",
    "print(summ)"
   ]
  },
  {
   "cell_type": "code",
   "execution_count": null,
   "id": "a29e8367",
   "metadata": {},
   "outputs": [],
   "source": [
    "Better solution:"
   ]
  },
  {
   "cell_type": "code",
   "execution_count": 2,
   "id": "73b63795",
   "metadata": {},
   "outputs": [
    {
     "name": "stdout",
     "output_type": "stream",
     "text": [
      "133333334466666672\n",
      "CPU times: user 40.3 s, sys: 0 ns, total: 40.3 s\n",
      "Wall time: 40.3 s\n"
     ]
    }
   ],
   "source": [
    "%%time\n",
    "summ = 0\n",
    "for i_num in range(3, 1000000003, 3):\n",
    "    if i_num % 10 not in [4, 7]:\n",
    "        summ += i_num\n",
    "print(summ)"
   ]
  },
  {
   "cell_type": "code",
   "execution_count": null,
   "id": "aa6589a1",
   "metadata": {},
   "outputs": [],
   "source": [
    "The best solution:"
   ]
  },
  {
   "cell_type": "code",
   "execution_count": 3,
   "id": "799c2206",
   "metadata": {},
   "outputs": [
    {
     "data": {
      "text/plain": [
       "133333334466666672"
      ]
     },
     "execution_count": 3,
     "metadata": {},
     "output_type": "execute_result"
    }
   ],
   "source": [
    "%%time\n",
    "sum(range(3, 1000000003, 3)) - sum(range(24, 1000000003, 30)) - sum(range(27, 1000000003, 30))"
   ]
  },
  {
   "cell_type": "code",
   "execution_count": null,
   "id": "3a57b4fb",
   "metadata": {},
   "outputs": [],
   "source": []
  }
 ],
 "metadata": {
  "kernelspec": {
   "display_name": "Python 3 (ipykernel)",
   "language": "python",
   "name": "python3"
  },
  "language_info": {
   "codemirror_mode": {
    "name": "ipython",
    "version": 3
   },
   "file_extension": ".py",
   "mimetype": "text/x-python",
   "name": "python",
   "nbconvert_exporter": "python",
   "pygments_lexer": "ipython3",
   "version": "3.9.5"
  }
 },
 "nbformat": 4,
 "nbformat_minor": 5
}
